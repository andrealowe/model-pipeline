{
 "cells": [
  {
   "cell_type": "code",
   "execution_count": 1,
   "metadata": {},
   "outputs": [],
   "source": [
    "from pyspark.sql import SparkSession\n",
    "from pyspark import SparkConf, SparkContext\n",
    "import random\n",
    "import sys\n",
    "import json"
   ]
  },
  {
   "cell_type": "code",
   "execution_count": 2,
   "metadata": {},
   "outputs": [],
   "source": [
    "# ## Note: spark config already embedded in Domino Compute Environment, for seamless use...\n",
    " \n",
    "# Create the Spark Context\n",
    "sc=SparkContext.getOrCreate()"
   ]
  },
  {
   "cell_type": "code",
   "execution_count": 3,
   "metadata": {},
   "outputs": [
    {
     "name": "stdout",
     "output_type": "stream",
     "text": [
      "Pi is roughly 3.1416952\n"
     ]
    }
   ],
   "source": [
    "# ## Spark computing example: Approximate Pi\n",
    "# * Pi can be approximated to a certain precision by computing the geometric probability that some number of random points chosen from asquare grid fall within its unit circle. \n",
    "# \n",
    "# #### How is 𝜋 approximated here? \n",
    "# * from: https://blog.codecentric.de/en/2016/04/calculating-pi-apache-spark/\n",
    "# \n",
    "# This computation is based on the following heuristic: By definition 𝜋 is the area 𝐴Circle of a circle with radius 𝑟=1 (generally, 𝜋⋅𝑟2 is the area of a circle of radius 𝑟).\n",
    "# \n",
    "# One then circumscribes this unit circle with a square whose area equals 𝐴Square=4. \n",
    "# \n",
    "# *The ratio of these two areas thus equals to 𝐴Circle𝐴Square=𝜋4 and gives the geometric probability of a point inside the square to lie inside in the circle.*\n",
    "# \n",
    "# Now let us assume that we pick a huge number 𝑛 of points randomly inside the circumscribed square, for example, by throwing darts or dropping rain drops onto it. \n",
    "# \n",
    "# A certain number 𝑛 in of these points will end up inside the area described by the circle while the remaining number 𝑛out of these points will lie outside of it (but inside the square). Thus 𝑛in+𝑛out=𝑛 and the probability of a point lying inside of the circle area is 𝑛in𝑛.\n",
    "# \n",
    "# Heuristically, one has 𝐴Circle𝐴Square≈𝑛in and hence 𝜋≈(4⋅𝑛_in/n).\n",
    " \n",
    "# In[6]:\n",
    " \n",
    "if len(sys.argv) == 2:\n",
    "    #note: must be real number between 0 and 1\n",
    "    NUM_SAMPLES = int(sys.argv[1])\n",
    "else: \n",
    "    NUM_SAMPLES = 50000000\n",
    " \n",
    "def inside(p):\n",
    " x, y = random.random(), random.random()\n",
    " return x*x + y*y < 1\n",
    "count = sc.parallelize(range(0, NUM_SAMPLES)).filter(inside).count()\n",
    "pi = float(4.0 * count / float(NUM_SAMPLES))\n",
    "print('Pi is roughly', pi)\n",
    " \n",
    "### write to Domino Stats\n",
    " \n",
    "#with open('dominostats.json', 'w') as f:\n",
    "#    f.write(json.dumps({\"Number of Samples\": NUM_SAMPLES, \"Pi approximation\": pi}))"
   ]
  },
  {
   "cell_type": "code",
   "execution_count": null,
   "metadata": {},
   "outputs": [],
   "source": []
  }
 ],
 "metadata": {
  "kernelspec": {
   "display_name": "Python 3",
   "language": "python",
   "name": "python3"
  },
  "language_info": {
   "codemirror_mode": {
    "name": "ipython",
    "version": 3
   },
   "file_extension": ".py",
   "mimetype": "text/x-python",
   "name": "python",
   "nbconvert_exporter": "python",
   "pygments_lexer": "ipython3",
   "version": "3.6.10"
  }
 },
 "nbformat": 4,
 "nbformat_minor": 4
}
